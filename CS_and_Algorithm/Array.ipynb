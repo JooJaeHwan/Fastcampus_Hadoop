{
 "cells": [
  {
   "cell_type": "markdown",
   "id": "c76d3581",
   "metadata": {},
   "source": [
    "## 꼭 알아둬야 할 자료구조: 배열(Array)\n",
    "- 데이터를 나열하고, 각 데이터를 인덱스에 대응하도록 구성한 데이터 구조\n",
    "- 파이썬에서는 리스트 타입이 배열기능을 제공하고 있음"
   ]
  },
  {
   "cell_type": "markdown",
   "id": "57b986a9",
   "metadata": {},
   "source": [
    "## 1. 배열이 왜 필요할까?\n",
    "- 같은 종류의 데이터를 효율적으로 관리하기 위해 사용\n",
    "- 같은 종류의 데이터를 순차적으로 저장"
   ]
  },
  {
   "cell_type": "code",
   "execution_count": null,
   "id": "eca3be35",
   "metadata": {},
   "outputs": [],
   "source": []
  }
 ],
 "metadata": {
  "kernelspec": {
   "display_name": "Python 3 (ipykernel)",
   "language": "python",
   "name": "python3"
  },
  "language_info": {
   "codemirror_mode": {
    "name": "ipython",
    "version": 3
   },
   "file_extension": ".py",
   "mimetype": "text/x-python",
   "name": "python",
   "nbconvert_exporter": "python",
   "pygments_lexer": "ipython3",
   "version": "3.8.13"
  }
 },
 "nbformat": 4,
 "nbformat_minor": 5
}
